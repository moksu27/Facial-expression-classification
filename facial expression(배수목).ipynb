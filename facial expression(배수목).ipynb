{
 "cells": [
  {
   "cell_type": "code",
<<<<<<< HEAD
   "execution_count": 149,
=======
   "execution_count": 171,
>>>>>>> 8020edbed4d204e38b04ffc018f0af671435ea8a
   "metadata": {},
   "outputs": [],
   "source": [
    "import seaborn as sns\n",
    "import pandas as pd\n",
    "import numpy as np\n",
    "import matplotlib.pyplot as plt\n",
    "import tensorflow as tf\n",
    "from tensorflow.keras import Sequential, layers\n",
    "from tensorflow.keras.layers import Conv2D, MaxPool2D, Dropout, Flatten, Dense\n",
    "from tensorflow.keras.callbacks import EarlyStopping\n",
    "import cv2\n",
    "from PIL import Image\n",
    "from keras.preprocessing.image import ImageDataGenerator\n",
    "import glob\n",
    "import keras.backend as K\n",
    "\n",
    "K.clear_session() # 새로운 세션으로 시작"
   ]
  },
  {
   "cell_type": "code",
<<<<<<< HEAD
   "execution_count": 177,
   "metadata": {},
   "outputs": [],
   "source": [
    "height = 256\n",
    "width = 256"
=======
   "execution_count": 172,
   "metadata": {},
   "outputs": [],
   "source": [
    "height = 128\n",
    "width = 128"
>>>>>>> 8020edbed4d204e38b04ffc018f0af671435ea8a
   ]
  },
  {
   "cell_type": "code",
<<<<<<< HEAD
   "execution_count": 178,
=======
   "execution_count": 173,
>>>>>>> 8020edbed4d204e38b04ffc018f0af671435ea8a
   "metadata": {},
   "outputs": [],
   "source": [
    "def img_read_resize(img_path):\n",
    "    img = cv2.imread(img_path)\n",
    "    img = cv2.cvtColor(img, cv2.COLOR_BGR2RGB)\n",
    "    img = cv2.resize(img, (height, width))\n",
    "    return img\n"
   ]
  },
  {
   "cell_type": "code",
<<<<<<< HEAD
   "execution_count": 180,
=======
   "execution_count": 174,
>>>>>>> 8020edbed4d204e38b04ffc018f0af671435ea8a
   "metadata": {},
   "outputs": [],
   "source": [
    "def img_folder_read(root_dir):\n",
    "    img_files = []\n",
    "    nfiles = glob.glob(f\"{root_dir}/*\")\n",
    "    nfiles = sorted(nfiles)\n",
    "    for n_img in nfiles:\n",
    "        try:\n",
    "            img_files.append(img_read_resize(n_img))\n",
    "        except:\n",
    "            continue\n",
    "    return img_files\n"
   ]
  },
  {
   "cell_type": "code",
<<<<<<< HEAD
   "execution_count": 181,
=======
   "execution_count": 175,
>>>>>>> 8020edbed4d204e38b04ffc018f0af671435ea8a
   "metadata": {},
   "outputs": [
    {
     "data": {
      "text/plain": [
       "'archive/test'"
      ]
     },
<<<<<<< HEAD
     "execution_count": 181,
=======
     "execution_count": 175,
>>>>>>> 8020edbed4d204e38b04ffc018f0af671435ea8a
     "metadata": {},
     "output_type": "execute_result"
    }
   ],
   "source": [
    "test_root_dir = \"archive/test\"\n",
    "test_root_dir"
   ]
  },
  {
   "cell_type": "code",
<<<<<<< HEAD
   "execution_count": 182,
=======
   "execution_count": 176,
>>>>>>> 8020edbed4d204e38b04ffc018f0af671435ea8a
   "metadata": {},
   "outputs": [],
   "source": [
    "data_generator = ImageDataGenerator(rescale = 1./255, validation_split=0.2)\n"
   ]
  },
  {
   "cell_type": "code",
<<<<<<< HEAD
   "execution_count": 183,
=======
   "execution_count": 177,
>>>>>>> 8020edbed4d204e38b04ffc018f0af671435ea8a
   "metadata": {},
   "outputs": [
    {
     "name": "stdout",
     "output_type": "stream",
     "text": [
      "Found 22968 images belonging to 7 classes.\n"
     ]
    }
   ],
   "source": [
    "train_generator = data_generator.flow_from_directory(\n",
    "    directory = \"archive/train\",\n",
    "    color_mode = 'grayscale',\n",
    "    target_size = (height,width),\n",
<<<<<<< HEAD
    "    batch_size = 20,\n",
=======
    "    batch_size = 64,\n",
>>>>>>> 8020edbed4d204e38b04ffc018f0af671435ea8a
    "    class_mode = 'categorical',\n",
    "    subset = 'training',\n",
    "    shuffle = False)"
   ]
  },
  {
   "cell_type": "code",
<<<<<<< HEAD
   "execution_count": 184,
   "metadata": {},
   "outputs": [
    {
     "data": {
      "text/plain": [
       "<matplotlib.image.AxesImage at 0x306fe2290>"
      ]
     },
     "execution_count": 184,
     "metadata": {},
     "output_type": "execute_result"
    },
    {
     "data": {
      "image/png": "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",
      "text/plain": [
       "<Figure size 640x480 with 1 Axes>"
      ]
     },
     "metadata": {},
     "output_type": "display_data"
    }
   ],
   "source": [
    "plt.imshow(train_generator[0][0][0])"
   ]
  },
  {
   "cell_type": "code",
   "execution_count": 185,
=======
   "execution_count": 178,
>>>>>>> 8020edbed4d204e38b04ffc018f0af671435ea8a
   "metadata": {},
   "outputs": [
    {
     "data": {
      "text/plain": [
       "{'angry': 0,\n",
       " 'disgust': 1,\n",
       " 'fear': 2,\n",
       " 'happy': 3,\n",
       " 'neutral': 4,\n",
       " 'sad': 5,\n",
       " 'surprise': 6}"
      ]
     },
<<<<<<< HEAD
     "execution_count": 185,
=======
     "execution_count": 178,
>>>>>>> 8020edbed4d204e38b04ffc018f0af671435ea8a
     "metadata": {},
     "output_type": "execute_result"
    }
   ],
   "source": [
    "train_generator.class_indices\n"
   ]
  },
  {
   "cell_type": "code",
<<<<<<< HEAD
   "execution_count": 186,
=======
   "execution_count": 179,
>>>>>>> 8020edbed4d204e38b04ffc018f0af671435ea8a
   "metadata": {},
   "outputs": [
    {
     "name": "stdout",
     "output_type": "stream",
     "text": [
      "Found 5741 images belonging to 7 classes.\n"
     ]
    }
   ],
   "source": [
    "val_generator = data_generator.flow_from_directory(\n",
    "    directory = \"archive/train\",\n",
    "    color_mode = 'grayscale',\n",
    "    target_size =(height, width),\n",
    "    class_mode = 'categorical',\n",
<<<<<<< HEAD
    "    batch_size = 20,\n",
=======
    "    batch_size = 64,\n",
>>>>>>> 8020edbed4d204e38b04ffc018f0af671435ea8a
    "    subset='validation',\n",
    "    shuffle = False)"
   ]
  },
  {
   "cell_type": "code",
<<<<<<< HEAD
   "execution_count": 187,
   "metadata": {},
   "outputs": [],
=======
   "execution_count": 180,
   "metadata": {},
   "outputs": [],
   "source": [
    "model = Sequential()\n",
    "# 입력층\n",
    "model.add(Conv2D(filters=64, kernel_size=(3,3), padding='same', activation='relu', input_shape=(height, width, 1)))\n",
    "model.add(Conv2D(filters=128, kernel_size=(3,3), activation='relu'))\n",
    "model.add(layers.BatchNormalization())\n",
    "model.add(MaxPool2D(2,2))\n",
    "model.add(Dropout(0.8))\n",
    "model.add(Conv2D(filters=64, kernel_size=(3,3), padding='same', activation='relu'))\n",
    "model.add(Conv2D(filters=128, kernel_size=(3,3), activation='relu'))\n",
    "model.add(layers.BatchNormalization())\n",
    "model.add(MaxPool2D(2,2))\n",
    "model.add(Dropout(0.5))\n",
    "\n",
    "model.add(Flatten())\n",
    "model.add(Dense(1024, activation='relu'))\n",
    "model.add(Dense(1024, activation='relu'))\n",
    "model.add(Dropout(0.2))\n",
    "# Fully-connected layer\n",
    "\n",
    "# 출력층\n",
    "model.add(Dense(7, activation='softmax'))"
   ]
  },
  {
   "cell_type": "code",
   "execution_count": 181,
   "metadata": {},
   "outputs": [
    {
     "data": {
      "text/plain": [
       "'\\n# vgg 사용\\nfrom tensorflow.keras.applications.vgg16 import VGG16\\nvgg = VGG16(weights = \"imagenet\", include_top=False, input_shape =(height, width, 3))\\n\\nmodel = Sequential()\\nmodel.add(vgg)\\nmodel.add(Flatten())\\nmodel.add(Dense(1024, activation = \\'relu\\'))\\nmodel.add(Dropout(0.2))\\nmodel.add(Dense(7,activation = \"softmax\"))\\n'"
      ]
     },
     "execution_count": 181,
     "metadata": {},
     "output_type": "execute_result"
    }
   ],
>>>>>>> 8020edbed4d204e38b04ffc018f0af671435ea8a
   "source": [
    "'''\n",
    "# vgg 사용\n",
    "from tensorflow.keras.applications.vgg16 import VGG16\n",
    "vgg = VGG16(weights = \"imagenet\", include_top=False, input_shape =(height, width, 3))\n",
    "\n",
    "model = Sequential()\n",
    "model.add(vgg)\n",
    "model.add(Flatten())\n",
<<<<<<< HEAD
    "model.add(Dense(1024, activation='relu'))\n",
    "model.add(Dropout(0.5))\n",
    "model.add(Dense(500, activation='relu'))\n",
    "model.add(Dropout(0.2))\n",
    "model.add(Dense(7,activation = \"softmax\"))"
=======
    "model.add(Dense(1024, activation = 'relu'))\n",
    "model.add(Dropout(0.2))\n",
    "model.add(Dense(7,activation = \"softmax\"))\n",
    "'''"
>>>>>>> 8020edbed4d204e38b04ffc018f0af671435ea8a
   ]
  },
  {
   "cell_type": "code",
<<<<<<< HEAD
   "execution_count": 188,
=======
   "execution_count": 182,
>>>>>>> 8020edbed4d204e38b04ffc018f0af671435ea8a
   "metadata": {},
   "outputs": [
    {
     "name": "stdout",
     "output_type": "stream",
     "text": [
      "Model: \"sequential_4\"\n",
      "_________________________________________________________________\n",
      " Layer (type)                Output Shape              Param #   \n",
      "=================================================================\n",
<<<<<<< HEAD
      " vgg16 (Functional)          (None, 8, 8, 512)         14714688  \n",
      "                                                                 \n",
      " flatten_4 (Flatten)         (None, 32768)             0         \n",
      "                                                                 \n",
      " dense_12 (Dense)            (None, 1024)              33555456  \n",
      "                                                                 \n",
      " dropout_8 (Dropout)         (None, 1024)              0         \n",
      "                                                                 \n",
      " dense_13 (Dense)            (None, 500)               512500    \n",
      "                                                                 \n",
      " dropout_9 (Dropout)         (None, 500)               0         \n",
      "                                                                 \n",
      " dense_14 (Dense)            (None, 7)                 3507      \n",
      "                                                                 \n",
      "=================================================================\n",
      "Total params: 48,786,151\n",
      "Trainable params: 48,786,151\n",
      "Non-trainable params: 0\n",
=======
      " conv2d (Conv2D)             (None, 128, 128, 64)      640       \n",
      "                                                                 \n",
      " conv2d_1 (Conv2D)           (None, 126, 126, 128)     73856     \n",
      "                                                                 \n",
      " batch_normalization (BatchN  (None, 126, 126, 128)    512       \n",
      " ormalization)                                                   \n",
      "                                                                 \n",
      " max_pooling2d (MaxPooling2D  (None, 63, 63, 128)      0         \n",
      " )                                                               \n",
      "                                                                 \n",
      " dropout (Dropout)           (None, 63, 63, 128)       0         \n",
      "                                                                 \n",
      " conv2d_2 (Conv2D)           (None, 63, 63, 64)        73792     \n",
      "                                                                 \n",
      " conv2d_3 (Conv2D)           (None, 61, 61, 128)       73856     \n",
      "                                                                 \n",
      " batch_normalization_1 (Batc  (None, 61, 61, 128)      512       \n",
      " hNormalization)                                                 \n",
      "                                                                 \n",
      " max_pooling2d_1 (MaxPooling  (None, 30, 30, 128)      0         \n",
      " 2D)                                                             \n",
      "                                                                 \n",
      " dropout_1 (Dropout)         (None, 30, 30, 128)       0         \n",
      "                                                                 \n",
      " flatten (Flatten)           (None, 115200)            0         \n",
      "                                                                 \n",
      " dense (Dense)               (None, 1024)              117965824 \n",
      "                                                                 \n",
      " dense_1 (Dense)             (None, 1024)              1049600   \n",
      "                                                                 \n",
      " dropout_2 (Dropout)         (None, 1024)              0         \n",
      "                                                                 \n",
      " dense_2 (Dense)             (None, 7)                 7175      \n",
      "                                                                 \n",
      "=================================================================\n",
      "Total params: 119,245,767\n",
      "Trainable params: 119,245,255\n",
      "Non-trainable params: 512\n",
>>>>>>> 8020edbed4d204e38b04ffc018f0af671435ea8a
      "_________________________________________________________________\n"
     ]
    }
   ],
   "source": [
    "model.summary()\n"
   ]
  },
  {
   "cell_type": "code",
<<<<<<< HEAD
   "execution_count": 189,
   "metadata": {},
   "outputs": [],
   "source": [
    "model.compile(optimizer = 'adam', loss = 'categorical_crossentropy', metrics='accuracy')"
=======
   "execution_count": 183,
   "metadata": {},
   "outputs": [],
   "source": [
    "model.compile(optimizer = 'adam', loss = 'categorical_crossentropy', metrics=\"accuracy\")\n"
>>>>>>> 8020edbed4d204e38b04ffc018f0af671435ea8a
   ]
  },
  {
   "cell_type": "code",
<<<<<<< HEAD
   "execution_count": 190,
=======
   "execution_count": 184,
>>>>>>> 8020edbed4d204e38b04ffc018f0af671435ea8a
   "metadata": {},
   "outputs": [],
   "source": [
    "early_stop = tf.keras.callbacks.EarlyStopping(monitor='val_accuracy', patience=2)\n"
   ]
  },
  {
   "cell_type": "code",
<<<<<<< HEAD
   "execution_count": 191,
=======
   "execution_count": 185,
>>>>>>> 8020edbed4d204e38b04ffc018f0af671435ea8a
   "metadata": {},
   "outputs": [
    {
     "name": "stdout",
     "output_type": "stream",
     "text": [
<<<<<<< HEAD
      "Epoch 1/2\n"
     ]
    },
    {
     "name": "stderr",
     "output_type": "stream",
     "text": [
      "2022-12-11 21:59:24.302379: I tensorflow/core/grappler/optimizers/custom_graph_optimizer_registry.cc:114] Plugin optimizer for device_type GPU is enabled.\n"
     ]
    },
    {
     "name": "stdout",
     "output_type": "stream",
     "text": [
      " 552/1149 [=============>................] - ETA: 22:22 - loss: 2.5616 - accuracy: 0.2549"
     ]
    },
    {
     "ename": "KeyboardInterrupt",
     "evalue": "",
     "output_type": "error",
     "traceback": [
      "\u001b[0;31m---------------------------------------------------------------------------\u001b[0m",
      "\u001b[0;31mKeyboardInterrupt\u001b[0m                         Traceback (most recent call last)",
      "Cell \u001b[0;32mIn [191], line 1\u001b[0m\n\u001b[0;32m----> 1\u001b[0m history \u001b[39m=\u001b[39m model\u001b[39m.\u001b[39;49mfit(train_generator, epochs \u001b[39m=\u001b[39;49m \u001b[39m2\u001b[39;49m, callbacks \u001b[39m=\u001b[39;49m early_stop, validation_data \u001b[39m=\u001b[39;49m val_generator)\n",
      "File \u001b[0;32m~/miniforge3/lib/python3.10/site-packages/keras/utils/traceback_utils.py:65\u001b[0m, in \u001b[0;36mfilter_traceback.<locals>.error_handler\u001b[0;34m(*args, **kwargs)\u001b[0m\n\u001b[1;32m     63\u001b[0m filtered_tb \u001b[39m=\u001b[39m \u001b[39mNone\u001b[39;00m\n\u001b[1;32m     64\u001b[0m \u001b[39mtry\u001b[39;00m:\n\u001b[0;32m---> 65\u001b[0m     \u001b[39mreturn\u001b[39;00m fn(\u001b[39m*\u001b[39;49margs, \u001b[39m*\u001b[39;49m\u001b[39m*\u001b[39;49mkwargs)\n\u001b[1;32m     66\u001b[0m \u001b[39mexcept\u001b[39;00m \u001b[39mException\u001b[39;00m \u001b[39mas\u001b[39;00m e:\n\u001b[1;32m     67\u001b[0m     filtered_tb \u001b[39m=\u001b[39m _process_traceback_frames(e\u001b[39m.\u001b[39m__traceback__)\n",
      "File \u001b[0;32m~/miniforge3/lib/python3.10/site-packages/keras/engine/training.py:1570\u001b[0m, in \u001b[0;36mModel.fit\u001b[0;34m(self, x, y, batch_size, epochs, verbose, callbacks, validation_split, validation_data, shuffle, class_weight, sample_weight, initial_epoch, steps_per_epoch, validation_steps, validation_batch_size, validation_freq, max_queue_size, workers, use_multiprocessing)\u001b[0m\n\u001b[1;32m   1568\u001b[0m logs \u001b[39m=\u001b[39m tmp_logs\n\u001b[1;32m   1569\u001b[0m end_step \u001b[39m=\u001b[39m step \u001b[39m+\u001b[39m data_handler\u001b[39m.\u001b[39mstep_increment\n\u001b[0;32m-> 1570\u001b[0m callbacks\u001b[39m.\u001b[39;49mon_train_batch_end(end_step, logs)\n\u001b[1;32m   1571\u001b[0m \u001b[39mif\u001b[39;00m \u001b[39mself\u001b[39m\u001b[39m.\u001b[39mstop_training:\n\u001b[1;32m   1572\u001b[0m     \u001b[39mbreak\u001b[39;00m\n",
      "File \u001b[0;32m~/miniforge3/lib/python3.10/site-packages/keras/callbacks.py:470\u001b[0m, in \u001b[0;36mCallbackList.on_train_batch_end\u001b[0;34m(self, batch, logs)\u001b[0m\n\u001b[1;32m    463\u001b[0m \u001b[39m\"\"\"Calls the `on_train_batch_end` methods of its callbacks.\u001b[39;00m\n\u001b[1;32m    464\u001b[0m \n\u001b[1;32m    465\u001b[0m \u001b[39mArgs:\u001b[39;00m\n\u001b[1;32m    466\u001b[0m \u001b[39m    batch: Integer, index of batch within the current epoch.\u001b[39;00m\n\u001b[1;32m    467\u001b[0m \u001b[39m    logs: Dict. Aggregated metric results up until this batch.\u001b[39;00m\n\u001b[1;32m    468\u001b[0m \u001b[39m\"\"\"\u001b[39;00m\n\u001b[1;32m    469\u001b[0m \u001b[39mif\u001b[39;00m \u001b[39mself\u001b[39m\u001b[39m.\u001b[39m_should_call_train_batch_hooks:\n\u001b[0;32m--> 470\u001b[0m     \u001b[39mself\u001b[39;49m\u001b[39m.\u001b[39;49m_call_batch_hook(ModeKeys\u001b[39m.\u001b[39;49mTRAIN, \u001b[39m\"\u001b[39;49m\u001b[39mend\u001b[39;49m\u001b[39m\"\u001b[39;49m, batch, logs\u001b[39m=\u001b[39;49mlogs)\n",
      "File \u001b[0;32m~/miniforge3/lib/python3.10/site-packages/keras/callbacks.py:317\u001b[0m, in \u001b[0;36mCallbackList._call_batch_hook\u001b[0;34m(self, mode, hook, batch, logs)\u001b[0m\n\u001b[1;32m    315\u001b[0m     \u001b[39mself\u001b[39m\u001b[39m.\u001b[39m_call_batch_begin_hook(mode, batch, logs)\n\u001b[1;32m    316\u001b[0m \u001b[39melif\u001b[39;00m hook \u001b[39m==\u001b[39m \u001b[39m\"\u001b[39m\u001b[39mend\u001b[39m\u001b[39m\"\u001b[39m:\n\u001b[0;32m--> 317\u001b[0m     \u001b[39mself\u001b[39;49m\u001b[39m.\u001b[39;49m_call_batch_end_hook(mode, batch, logs)\n\u001b[1;32m    318\u001b[0m \u001b[39melse\u001b[39;00m:\n\u001b[1;32m    319\u001b[0m     \u001b[39mraise\u001b[39;00m \u001b[39mValueError\u001b[39;00m(\n\u001b[1;32m    320\u001b[0m         \u001b[39mf\u001b[39m\u001b[39m\"\u001b[39m\u001b[39mUnrecognized hook: \u001b[39m\u001b[39m{\u001b[39;00mhook\u001b[39m}\u001b[39;00m\u001b[39m. \u001b[39m\u001b[39m\"\u001b[39m\n\u001b[1;32m    321\u001b[0m         \u001b[39m'\u001b[39m\u001b[39mExpected values are [\u001b[39m\u001b[39m\"\u001b[39m\u001b[39mbegin\u001b[39m\u001b[39m\"\u001b[39m\u001b[39m, \u001b[39m\u001b[39m\"\u001b[39m\u001b[39mend\u001b[39m\u001b[39m\"\u001b[39m\u001b[39m]\u001b[39m\u001b[39m'\u001b[39m\n\u001b[1;32m    322\u001b[0m     )\n",
      "File \u001b[0;32m~/miniforge3/lib/python3.10/site-packages/keras/callbacks.py:340\u001b[0m, in \u001b[0;36mCallbackList._call_batch_end_hook\u001b[0;34m(self, mode, batch, logs)\u001b[0m\n\u001b[1;32m    337\u001b[0m     batch_time \u001b[39m=\u001b[39m time\u001b[39m.\u001b[39mtime() \u001b[39m-\u001b[39m \u001b[39mself\u001b[39m\u001b[39m.\u001b[39m_batch_start_time\n\u001b[1;32m    338\u001b[0m     \u001b[39mself\u001b[39m\u001b[39m.\u001b[39m_batch_times\u001b[39m.\u001b[39mappend(batch_time)\n\u001b[0;32m--> 340\u001b[0m \u001b[39mself\u001b[39;49m\u001b[39m.\u001b[39;49m_call_batch_hook_helper(hook_name, batch, logs)\n\u001b[1;32m    342\u001b[0m \u001b[39mif\u001b[39;00m \u001b[39mlen\u001b[39m(\u001b[39mself\u001b[39m\u001b[39m.\u001b[39m_batch_times) \u001b[39m>\u001b[39m\u001b[39m=\u001b[39m \u001b[39mself\u001b[39m\u001b[39m.\u001b[39m_num_batches_for_timing_check:\n\u001b[1;32m    343\u001b[0m     end_hook_name \u001b[39m=\u001b[39m hook_name\n",
      "File \u001b[0;32m~/miniforge3/lib/python3.10/site-packages/keras/callbacks.py:388\u001b[0m, in \u001b[0;36mCallbackList._call_batch_hook_helper\u001b[0;34m(self, hook_name, batch, logs)\u001b[0m\n\u001b[1;32m    386\u001b[0m \u001b[39mfor\u001b[39;00m callback \u001b[39min\u001b[39;00m \u001b[39mself\u001b[39m\u001b[39m.\u001b[39mcallbacks:\n\u001b[1;32m    387\u001b[0m     hook \u001b[39m=\u001b[39m \u001b[39mgetattr\u001b[39m(callback, hook_name)\n\u001b[0;32m--> 388\u001b[0m     hook(batch, logs)\n\u001b[1;32m    390\u001b[0m \u001b[39mif\u001b[39;00m \u001b[39mself\u001b[39m\u001b[39m.\u001b[39m_check_timing:\n\u001b[1;32m    391\u001b[0m     \u001b[39mif\u001b[39;00m hook_name \u001b[39mnot\u001b[39;00m \u001b[39min\u001b[39;00m \u001b[39mself\u001b[39m\u001b[39m.\u001b[39m_hook_times:\n",
      "File \u001b[0;32m~/miniforge3/lib/python3.10/site-packages/keras/callbacks.py:1081\u001b[0m, in \u001b[0;36mProgbarLogger.on_train_batch_end\u001b[0;34m(self, batch, logs)\u001b[0m\n\u001b[1;32m   1080\u001b[0m \u001b[39mdef\u001b[39;00m \u001b[39mon_train_batch_end\u001b[39m(\u001b[39mself\u001b[39m, batch, logs\u001b[39m=\u001b[39m\u001b[39mNone\u001b[39;00m):\n\u001b[0;32m-> 1081\u001b[0m     \u001b[39mself\u001b[39;49m\u001b[39m.\u001b[39;49m_batch_update_progbar(batch, logs)\n",
      "File \u001b[0;32m~/miniforge3/lib/python3.10/site-packages/keras/callbacks.py:1157\u001b[0m, in \u001b[0;36mProgbarLogger._batch_update_progbar\u001b[0;34m(self, batch, logs)\u001b[0m\n\u001b[1;32m   1153\u001b[0m     \u001b[39mself\u001b[39m\u001b[39m.\u001b[39mseen \u001b[39m+\u001b[39m\u001b[39m=\u001b[39m add_seen\n\u001b[1;32m   1155\u001b[0m \u001b[39mif\u001b[39;00m \u001b[39mself\u001b[39m\u001b[39m.\u001b[39mverbose \u001b[39m==\u001b[39m \u001b[39m1\u001b[39m:\n\u001b[1;32m   1156\u001b[0m     \u001b[39m# Only block async when verbose = 1.\u001b[39;00m\n\u001b[0;32m-> 1157\u001b[0m     logs \u001b[39m=\u001b[39m tf_utils\u001b[39m.\u001b[39;49msync_to_numpy_or_python_type(logs)\n\u001b[1;32m   1158\u001b[0m     \u001b[39mself\u001b[39m\u001b[39m.\u001b[39mprogbar\u001b[39m.\u001b[39mupdate(\u001b[39mself\u001b[39m\u001b[39m.\u001b[39mseen, \u001b[39mlist\u001b[39m(logs\u001b[39m.\u001b[39mitems()), finalize\u001b[39m=\u001b[39m\u001b[39mFalse\u001b[39;00m)\n",
      "File \u001b[0;32m~/miniforge3/lib/python3.10/site-packages/keras/utils/tf_utils.py:635\u001b[0m, in \u001b[0;36msync_to_numpy_or_python_type\u001b[0;34m(tensors)\u001b[0m\n\u001b[1;32m    632\u001b[0m         \u001b[39mreturn\u001b[39;00m t\n\u001b[1;32m    633\u001b[0m     \u001b[39mreturn\u001b[39;00m t\u001b[39m.\u001b[39mitem() \u001b[39mif\u001b[39;00m np\u001b[39m.\u001b[39mndim(t) \u001b[39m==\u001b[39m \u001b[39m0\u001b[39m \u001b[39melse\u001b[39;00m t\n\u001b[0;32m--> 635\u001b[0m \u001b[39mreturn\u001b[39;00m tf\u001b[39m.\u001b[39;49mnest\u001b[39m.\u001b[39;49mmap_structure(_to_single_numpy_or_python_type, tensors)\n",
      "File \u001b[0;32m~/miniforge3/lib/python3.10/site-packages/tensorflow/python/util/nest.py:917\u001b[0m, in \u001b[0;36mmap_structure\u001b[0;34m(func, *structure, **kwargs)\u001b[0m\n\u001b[1;32m    913\u001b[0m flat_structure \u001b[39m=\u001b[39m (flatten(s, expand_composites) \u001b[39mfor\u001b[39;00m s \u001b[39min\u001b[39;00m structure)\n\u001b[1;32m    914\u001b[0m entries \u001b[39m=\u001b[39m \u001b[39mzip\u001b[39m(\u001b[39m*\u001b[39mflat_structure)\n\u001b[1;32m    916\u001b[0m \u001b[39mreturn\u001b[39;00m pack_sequence_as(\n\u001b[0;32m--> 917\u001b[0m     structure[\u001b[39m0\u001b[39m], [func(\u001b[39m*\u001b[39mx) \u001b[39mfor\u001b[39;00m x \u001b[39min\u001b[39;00m entries],\n\u001b[1;32m    918\u001b[0m     expand_composites\u001b[39m=\u001b[39mexpand_composites)\n",
      "File \u001b[0;32m~/miniforge3/lib/python3.10/site-packages/tensorflow/python/util/nest.py:917\u001b[0m, in \u001b[0;36m<listcomp>\u001b[0;34m(.0)\u001b[0m\n\u001b[1;32m    913\u001b[0m flat_structure \u001b[39m=\u001b[39m (flatten(s, expand_composites) \u001b[39mfor\u001b[39;00m s \u001b[39min\u001b[39;00m structure)\n\u001b[1;32m    914\u001b[0m entries \u001b[39m=\u001b[39m \u001b[39mzip\u001b[39m(\u001b[39m*\u001b[39mflat_structure)\n\u001b[1;32m    916\u001b[0m \u001b[39mreturn\u001b[39;00m pack_sequence_as(\n\u001b[0;32m--> 917\u001b[0m     structure[\u001b[39m0\u001b[39m], [func(\u001b[39m*\u001b[39;49mx) \u001b[39mfor\u001b[39;00m x \u001b[39min\u001b[39;00m entries],\n\u001b[1;32m    918\u001b[0m     expand_composites\u001b[39m=\u001b[39mexpand_composites)\n",
      "File \u001b[0;32m~/miniforge3/lib/python3.10/site-packages/keras/utils/tf_utils.py:628\u001b[0m, in \u001b[0;36msync_to_numpy_or_python_type.<locals>._to_single_numpy_or_python_type\u001b[0;34m(t)\u001b[0m\n\u001b[1;32m    625\u001b[0m \u001b[39mdef\u001b[39;00m \u001b[39m_to_single_numpy_or_python_type\u001b[39m(t):\n\u001b[1;32m    626\u001b[0m     \u001b[39m# Don't turn ragged or sparse tensors to NumPy.\u001b[39;00m\n\u001b[1;32m    627\u001b[0m     \u001b[39mif\u001b[39;00m \u001b[39misinstance\u001b[39m(t, tf\u001b[39m.\u001b[39mTensor):\n\u001b[0;32m--> 628\u001b[0m         t \u001b[39m=\u001b[39m t\u001b[39m.\u001b[39;49mnumpy()\n\u001b[1;32m    629\u001b[0m     \u001b[39m# Strings, ragged and sparse tensors don't have .item(). Return them\u001b[39;00m\n\u001b[1;32m    630\u001b[0m     \u001b[39m# as-is.\u001b[39;00m\n\u001b[1;32m    631\u001b[0m     \u001b[39mif\u001b[39;00m \u001b[39mnot\u001b[39;00m \u001b[39misinstance\u001b[39m(t, (np\u001b[39m.\u001b[39mndarray, np\u001b[39m.\u001b[39mgeneric)):\n",
      "File \u001b[0;32m~/miniforge3/lib/python3.10/site-packages/tensorflow/python/framework/ops.py:1157\u001b[0m, in \u001b[0;36m_EagerTensorBase.numpy\u001b[0;34m(self)\u001b[0m\n\u001b[1;32m   1134\u001b[0m \u001b[39m\"\"\"Copy of the contents of this Tensor into a NumPy array or scalar.\u001b[39;00m\n\u001b[1;32m   1135\u001b[0m \n\u001b[1;32m   1136\u001b[0m \u001b[39mUnlike NumPy arrays, Tensors are immutable, so this method has to copy\u001b[39;00m\n\u001b[0;32m   (...)\u001b[0m\n\u001b[1;32m   1154\u001b[0m \u001b[39m    NumPy dtype.\u001b[39;00m\n\u001b[1;32m   1155\u001b[0m \u001b[39m\"\"\"\u001b[39;00m\n\u001b[1;32m   1156\u001b[0m \u001b[39m# TODO(slebedev): Consider avoiding a copy for non-CPU or remote tensors.\u001b[39;00m\n\u001b[0;32m-> 1157\u001b[0m maybe_arr \u001b[39m=\u001b[39m \u001b[39mself\u001b[39;49m\u001b[39m.\u001b[39;49m_numpy()  \u001b[39m# pylint: disable=protected-access\u001b[39;00m\n\u001b[1;32m   1158\u001b[0m \u001b[39mreturn\u001b[39;00m maybe_arr\u001b[39m.\u001b[39mcopy() \u001b[39mif\u001b[39;00m \u001b[39misinstance\u001b[39m(maybe_arr, np\u001b[39m.\u001b[39mndarray) \u001b[39melse\u001b[39;00m maybe_arr\n",
      "File \u001b[0;32m~/miniforge3/lib/python3.10/site-packages/tensorflow/python/framework/ops.py:1123\u001b[0m, in \u001b[0;36m_EagerTensorBase._numpy\u001b[0;34m(self)\u001b[0m\n\u001b[1;32m   1121\u001b[0m \u001b[39mdef\u001b[39;00m \u001b[39m_numpy\u001b[39m(\u001b[39mself\u001b[39m):\n\u001b[1;32m   1122\u001b[0m   \u001b[39mtry\u001b[39;00m:\n\u001b[0;32m-> 1123\u001b[0m     \u001b[39mreturn\u001b[39;00m \u001b[39mself\u001b[39;49m\u001b[39m.\u001b[39;49m_numpy_internal()\n\u001b[1;32m   1124\u001b[0m   \u001b[39mexcept\u001b[39;00m core\u001b[39m.\u001b[39m_NotOkStatusException \u001b[39mas\u001b[39;00m e:  \u001b[39m# pylint: disable=protected-access\u001b[39;00m\n\u001b[1;32m   1125\u001b[0m     \u001b[39mraise\u001b[39;00m core\u001b[39m.\u001b[39m_status_to_exception(e) \u001b[39mfrom\u001b[39;00m \u001b[39mNone\u001b[39m\n",
      "\u001b[0;31mKeyboardInterrupt\u001b[0m: "
=======
      "Epoch 1/2\n",
      "359/359 [==============================] - 1507s 4s/step - loss: 12.5438 - accuracy: 0.2137 - val_loss: 8.3573 - val_accuracy: 0.2376\n",
      "Epoch 2/2\n",
      "359/359 [==============================] - 1530s 4s/step - loss: 1.9229 - accuracy: 0.2655 - val_loss: 2.3908 - val_accuracy: 0.2662\n"
>>>>>>> 8020edbed4d204e38b04ffc018f0af671435ea8a
     ]
    }
   ],
   "source": [
    "history = model.fit(train_generator, epochs = 2, callbacks = early_stop, validation_data = val_generator)\n"
   ]
  },
  {
   "cell_type": "code",
   "execution_count": null,
   "metadata": {},
   "outputs": [],
   "source": []
  }
 ],
 "metadata": {
  "kernelspec": {
   "display_name": "Python 3",
   "language": "python",
   "name": "python3"
  },
  "language_info": {
   "codemirror_mode": {
    "name": "ipython",
    "version": 3
   },
   "file_extension": ".py",
   "mimetype": "text/x-python",
   "name": "python",
   "nbconvert_exporter": "python",
   "pygments_lexer": "ipython3",
   "version": "3.10.5"
  },
  "orig_nbformat": 4,
  "vscode": {
   "interpreter": {
    "hash": "1a94d6498c08481623d29bad213a6943bcc71eecdd7acbc55fe0d7d47d1049f9"
   }
  }
 },
 "nbformat": 4,
 "nbformat_minor": 2
}
